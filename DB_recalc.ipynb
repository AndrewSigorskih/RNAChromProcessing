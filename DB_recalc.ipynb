{
 "cells": [
  {
   "cell_type": "code",
   "execution_count": 1,
   "metadata": {},
   "outputs": [],
   "source": [
    "#imports\n",
    "import os, sys\n",
    "sys.path.append('/home/asigorskikh/new_scripts/')\n",
    "from DB_scripts import *\n",
    "\n",
    "import warnings\n",
    "warnings.filterwarnings(\"ignore\")\n",
    "DIR = \"/mnt/scratch/rnachrom/\"\n",
    "os.chdir(DIR)"
   ]
  },
  {
   "cell_type": "markdown",
   "metadata": {},
   "source": [
    "# iMARGI"
   ]
  },
  {
   "cell_type": "markdown",
   "metadata": {},
   "source": [
    "### First paper"
   ]
  },
  {
   "cell_type": "code",
   "execution_count": 2,
   "metadata": {},
   "outputs": [],
   "source": [
    "curdir = DIR + 'data/imargi/'\n",
    "os.chdir(curdir)\n",
    "#restriction sites and fastuniq already done"
   ]
  },
  {
   "cell_type": "code",
   "execution_count": 3,
   "metadata": {},
   "outputs": [],
   "source": [
    "names = list(set([x.split('_')[0] for x in os.listdir('fastuniq/') if '.fastq' in x]))"
   ]
  },
  {
   "cell_type": "code",
   "execution_count": 18,
   "metadata": {},
   "outputs": [],
   "source": [
    "#data gunzip\n",
    "os.chdir('fastuniq')\n",
    "for x in [x for x in os.listdir('.') if '.fastq.gz' in x]:\n",
    "    os.system('gunzip {}'.format(x))\n",
    "os.chdir('..')"
   ]
  },
  {
   "cell_type": "code",
   "execution_count": 3,
   "metadata": {
    "collapsed": true,
    "jupyter": {
     "outputs_hidden": true
    },
    "tags": []
   },
   "outputs": [
    {
     "name": "stdout",
     "output_type": "stream",
     "text": [
      "b'TrimmomaticPE: Started with arguments:\\n -phred33 /mnt/scratch/rnachrom/data/imargi/fastuniq/SRR8206680_1.fastq /mnt/scratch/rnachrom/data/imargi/fastuniq/SRR8206680_2.fastq /mnt/scratch/rnachrom/data/imargi/trimmed/SRR8206680.forward.fastq /mnt/scratch/rnachrom/data/imargi/trimmed/SRR8206680.forward.fastq.unpaired /mnt/scratch/rnachrom/data/imargi/trimmed/SRR8206680.reverse.fastq /mnt/scratch/rnachrom/data/imargi/trimmed/SRR8206680.reverse.fastq.unpaired SLIDINGWINDOW:5:26 MINLEN:14\\nMultiple cores found: Using 4 threads\\nInput Read Pairs: 108657853 Both Surviving: 94855274 (87.30%) Forward Only Surviving: 11537370 (10.62%) Reverse Only Surviving: 1269966 (1.17%) Dropped: 995243 (0.92%)\\nTrimmomaticPE: Completed successfully\\n'\n",
      "b'TrimmomaticPE: Started with arguments:\\n -phred33 /mnt/scratch/rnachrom/data/imargi/fastuniq/SRR8206679_1.fastq /mnt/scratch/rnachrom/data/imargi/fastuniq/SRR8206679_2.fastq /mnt/scratch/rnachrom/data/imargi/trimmed/SRR8206679.forward.fastq /mnt/scratch/rnachrom/data/imargi/trimmed/SRR8206679.forward.fastq.unpaired /mnt/scratch/rnachrom/data/imargi/trimmed/SRR8206679.reverse.fastq /mnt/scratch/rnachrom/data/imargi/trimmed/SRR8206679.reverse.fastq.unpaired SLIDINGWINDOW:5:26 MINLEN:14\\nMultiple cores found: Using 4 threads\\nInput Read Pairs: 183432880 Both Surviving: 168381290 (91.79%) Forward Only Surviving: 12314141 (6.71%) Reverse Only Surviving: 1724356 (0.94%) Dropped: 1013093 (0.55%)\\nTrimmomaticPE: Completed successfully\\n'\n"
     ]
    }
   ],
   "source": [
    "#trim\n",
    "\n",
    "for name in names:\n",
    "    \n",
    "    file1_fastuniq = curdir + 'fastuniq/{}_1.fastq'.format(name)\n",
    "    file2_fastuniq = curdir + 'fastuniq/{}_2.fastq'.format(name)\n",
    "    \n",
    "    file1_trim = curdir + 'trimmed/{}.forward.fastq'.format(name)\n",
    "    file2_trim = curdir + 'trimmed/{}.reverse.fastq'.format(name)\n",
    "\n",
    "    run_trimmomatic(file1_fastuniq, file2_fastuniq, file1_trim, file2_trim,\n",
    "                  window=5, \n",
    "                  qual_th=26, \n",
    "                  minlen=14 \n",
    "                  )"
   ]
  },
  {
   "cell_type": "code",
   "execution_count": null,
   "metadata": {
    "tags": []
   },
   "outputs": [],
   "source": [
    "#align\n",
    "#names = list(set([x.split('.')[0] for x in os.listdir('trimmed/') if '.fastq' in x]))\n",
    "for name in names:\n",
    "    align(infile=curdir+f'trimmed/{name}.reverse.fastq', outfile=curdir+f'sam/{name}.dna.bam',\\\n",
    "         mode='dna', genome=DIR+'data/genomes/hg38/GRCh38.p13', nthreads=8)\n",
    "    align(infile=curdir+f'trimmed/{name}.forward.fastq', outfile=curdir+f'sam/{name}.rna.bam',\\\n",
    "         mode='rna', genome=DIR+'data/genomes/hg38/GRCh38.p13', nthreads=8,\\\n",
    "         known_splice=DIR+'data/genes/human/gencode.v35.basic.annotation.ss', novel_splice=curdir+f'bam/{name}.rna.novel_splice')"
   ]
  },
  {
   "cell_type": "code",
   "execution_count": 33,
   "metadata": {},
   "outputs": [
    {
     "data": {
      "text/plain": [
       "['SRR9900120', 'SRR9900121', 'SRR9900122']"
      ]
     },
     "execution_count": 33,
     "metadata": {},
     "output_type": "execute_result"
    }
   ],
   "source": [
    "names"
   ]
  },
  {
   "cell_type": "code",
   "execution_count": null,
   "metadata": {},
   "outputs": [],
   "source": [
    "for name in names:\n",
    "    filter_aligned(curdir+'sam/{}.dna.bam'.format(name), curdir+'bam/{}.dna.bam'.format(name))\n",
    "    filter_aligned(curdir+'sam/{}.rna.bam'.format(name), curdir+'bam/{}.rna.bam'.format(name))"
   ]
  },
  {
   "cell_type": "code",
   "execution_count": 19,
   "metadata": {
    "collapsed": true,
    "jupyter": {
     "outputs_hidden": true
    }
   },
   "outputs": [
    {
     "name": "stdout",
     "output_type": "stream",
     "text": [
      "b''\n",
      "b''\n",
      "b''\n",
      "b''\n"
     ]
    }
   ],
   "source": [
    "for x,y in itertools.product(names, ['rna', 'dna']):\n",
    "    aligned_to_bed(infile=curdir+'bam/{0}.{1}.bam'.format(x,y), outfile=curdir+'bed/{0}.{1}.bed'.format(x,y), mode='mapped')"
   ]
  },
  {
   "cell_type": "code",
   "execution_count": null,
   "metadata": {},
   "outputs": [],
   "source": [
    "extract_contacts(ids_rna=names, ids_dna=names, indir=curdir+'bed', outdir=curdir+'contacts')"
   ]
  },
  {
   "cell_type": "markdown",
   "metadata": {},
   "source": [
    "### Second paper"
   ]
  },
  {
   "cell_type": "code",
   "execution_count": 29,
   "metadata": {},
   "outputs": [],
   "source": [
    "curdir = DIR + 'data/imargi/'\n",
    "os.chdir(curdir)\n",
    "# cleaning and fastuniq done on makarych"
   ]
  },
  {
   "cell_type": "code",
   "execution_count": 30,
   "metadata": {},
   "outputs": [],
   "source": [
    "#names = [\"SRR12462453\", \"SRR12462454\"]\n",
    "names = [\"SRR9900120\", \"SRR9900121\", \"SRR9900122\"]"
   ]
  },
  {
   "cell_type": "code",
   "execution_count": null,
   "metadata": {},
   "outputs": [],
   "source": [
    "#trim\n",
    "for name in names: \n",
    "    file1_fastuniq = curdir + 'fastuniq/clean_{}_1.fastq'.format(name)\n",
    "    file2_fastuniq = curdir + 'fastuniq/clean_{}_2.fastq'.format(name)\n",
    "    \n",
    "    file1_trim = curdir + 'trimmed/{}.forward.fastq'.format(name)\n",
    "    file2_trim = curdir + 'trimmed/{}.reverse.fastq'.format(name)\n",
    "\n",
    "    run_trimmomatic(file1_fastuniq, file2_fastuniq, file1_trim, file2_trim,\n",
    "                  window=5, \n",
    "                  qual_th=26, \n",
    "                  minlen=14 \n",
    "                  )"
   ]
  },
  {
   "cell_type": "code",
   "execution_count": null,
   "metadata": {},
   "outputs": [],
   "source": [
    "for name in names:\n",
    "    align(infile=curdir+f'trimmed/{name}.reverse.fastq', outfile=curdir+f'sam/{name}.dna.bam',\\\n",
    "         mode='dna', genome=DIR+'data/genomes/hg38/GRCh38.p13', nthreads=8)\n",
    "    align(infile=curdir+f'trimmed/{name}.forward.fastq', outfile=curdir+f'sam/{name}.rna.bam',\\\n",
    "         mode='rna', genome=DIR+'data/genomes/hg38/GRCh38.p13', nthreads=8,\\\n",
    "         known_splice=DIR+'data/genes/human/gencode.v35.basic.annotation.ss', novel_splice=curdir+f'bam/{name}.rna.novel_splice')"
   ]
  },
  {
   "cell_type": "code",
   "execution_count": null,
   "metadata": {
    "tags": []
   },
   "outputs": [],
   "source": [
    "for name in names:\n",
    "    filter_aligned(curdir+f'sam/{name}.dna.bam', curdir+f'bam/{name}.dna.bam')\n",
    "    filter_aligned(curdir+f'sam/{name}.rna.bam', curdir+f'bam/{name}.rna.bam')"
   ]
  },
  {
   "cell_type": "code",
   "execution_count": null,
   "metadata": {
    "tags": []
   },
   "outputs": [],
   "source": [
    "for x,y in itertools.product(names, ['rna', 'dna']):\n",
    "    aligned_to_bed(infile=curdir+f'bam/{x}.{y}.bam', outfile=curdir+f'bed/{x}.{y}.bed', mode='mapped')"
   ]
  },
  {
   "cell_type": "code",
   "execution_count": 23,
   "metadata": {},
   "outputs": [],
   "source": [
    "hg38_dict = {'NC_000001.11': 'chr1',\n",
    " 'NC_000002.12': 'chr2',\n",
    " 'NC_000003.12': 'chr3',\n",
    " 'NC_000004.12': 'chr4',\n",
    " 'NC_000005.10': 'chr5',\n",
    " 'NC_000006.12': 'chr6',\n",
    " 'NC_000007.14': 'chr7',\n",
    " 'NC_000008.11': 'chr8',\n",
    " 'NC_000009.12': 'chr9',\n",
    " 'NC_000010.11': 'chr10',\n",
    " 'NC_000011.10': 'chr11',\n",
    " 'NC_000012.12': 'chr12',\n",
    " 'NC_000013.11': 'chr13',\n",
    " 'NC_000014.9': 'chr14',\n",
    " 'NC_000015.10': 'chr15',\n",
    " 'NC_000016.10': 'chr16',\n",
    " 'NC_000017.11': 'chr17',\n",
    " 'NC_000018.10': 'chr18',\n",
    " 'NC_000019.10': 'chr19',\n",
    " 'NC_000020.11': 'chr20',\n",
    " 'NC_000021.9': 'chr21',\n",
    " 'NC_000022.11': 'chr22',\n",
    " 'NC_000023.11': 'chrX',\n",
    " 'NC_000024.10': 'chrY'}"
   ]
  },
  {
   "cell_type": "code",
   "execution_count": null,
   "metadata": {},
   "outputs": [],
   "source": [
    "#extract_contacts(ids_rna=names, ids_dna=names, indir=curdir+'bed', outdir=curdir+'contacts')\n",
    "for name in names:\n",
    "    extract_contacts(infile_dna=f\"{curdir}bed/{name}.dna.bed\", infile_rna=f\"{curdir}bed/{name}.rna.bed\",\\\n",
    "                     outfile=f\"{curdir}contacts/{name}.tab\", chr_dict=hg38_dict)"
   ]
  },
  {
   "cell_type": "markdown",
   "metadata": {},
   "source": [
    "#### calc imargi strand"
   ]
  },
  {
   "cell_type": "code",
   "execution_count": 13,
   "metadata": {},
   "outputs": [],
   "source": [
    "import matplotlib.pyplot as plt\n",
    "import matplotlib.patches as mpatches\n",
    "import seaborn as sns\n",
    "import pandas as pd\n",
    "import numpy as np \n",
    "\n",
    "def rna_strand_barplot(labels, heigths, negheights, total, organism):\n",
    "    fig, ax = plt.subplots()\n",
    "    fig.set_size_inches(11.7, 8.27)\n",
    "    \n",
    "    x = np.arange(len(labels))  # the label locations\n",
    "    width = 0.5  # the width of the bars\n",
    "    groups = pd.Series([x.split('_')[0] for x in labels])\n",
    "    colors =[]\n",
    "    patches=[]\n",
    "    for i, name in enumerate(groups.unique()):\n",
    "        colors += [sns.color_palette(\"husl\", len(groups.unique()))[i]] * groups[groups==name].shape[0]\n",
    "        patches.append(mpatches.Patch(color=sns.color_palette(\"husl\", len(groups.unique()))[i], label=name))\n",
    "     \n",
    "    rects = []\n",
    "    negrects = []\n",
    "    for i in x:\n",
    "        rects += ax.bar(i, heights[i], width, color=colors[i], alpha=.5)\n",
    "        negrects += ax.bar(i, -negheights[i], width, color=colors[i], alpha=.5)\n",
    "    \n",
    "    \n",
    "    #rects = ax.bar(x, heights, width, alpha=.5)\n",
    "    ax.set_ylabel('Percentage of wins', fontsize=20)\n",
    "    ax.set_title(f'Percentage of wins (out of {total} ribosomal proteins)\\n for {organism} tissue datasets', fontsize=16)\n",
    "    ax.set_xticks(x)\n",
    "    ax.set_xticklabels(labels, rotation=90)\n",
    "    plt.legend(handles=patches, fontsize=14)\n",
    "    \n",
    "    ax.axes.get_yaxis().set_ticks([])\n",
    "    \n",
    "    \n",
    "    def autolabel(rects,neg=1):\n",
    "        \"\"\"Attach a text label above each bar in *rects*, displaying its height.\"\"\"\n",
    "        for rect in rects:\n",
    "            height = round(rect.get_height(),2)\n",
    "            ax.annotate('{}'.format(np.abs(height)),\n",
    "                    xy=(rect.get_x()+width/2, height),\n",
    "                    xytext=(0, 3*neg),  # 3 points vertical offset\n",
    "                    textcoords=\"offset points\",\n",
    "                    ha='center', va='bottom')\n",
    "    autolabel(rects)\n",
    "    autolabel(negrects,-3)\n",
    "    \n",
    "    ax.axhline()\n",
    "    fig.tight_layout()\n",
    "    plt.savefig(\"wins.png\",  dpi=300, bbox_inches = \"tight\", facecolor='white', transparent=False)\n",
    "    plt.savefig(\"wins.svg\",  dpi=300, bbox_inches = \"tight\", facecolor='white', transparent=False)\n",
    "    plt.show()"
   ]
  },
  {
   "cell_type": "code",
   "execution_count": 14,
   "metadata": {},
   "outputs": [
    {
     "data": {
      "image/png": "[encoded data removed]",
      "text/plain": [
       "<Figure size 842.4x595.44 with 1 Axes>"
      ]
     },
     "metadata": {
      "needs_background": "light"
     },
     "output_type": "display_data"
    }
   ],
   "source": [
    "labels = [\n",
    "    \"grid_SRR3633284\",\n",
    "    \"grid_SRR3633286\",\n",
    "    \"grid_SRR3633288\",\n",
    "    \"grid_SRR3633290\",\n",
    "    \"imargi_SRR206679\",\n",
    "    \"imargi_SRR206680\",\n",
    "    \"imargi_SRR12462453\",\n",
    "    \"imargi_SRR12462454\",\n",
    "    \"imargi_SRR9900120\",\n",
    "    \"imargi_SRR9900121\",\n",
    "    \"imargi_SRR9900122\",\n",
    "    \"margi_SRR5278094\",\n",
    "    \"margi_SRR5278095\",\n",
    "    \"margi_SRR5278096\",\n",
    "    \"margi_SRR5278097\",\n",
    "    \"margi_SRR5278098\",\n",
    "    \"margi_SRR5278099\",\n",
    "    \"margi_SRR5278100\",\n",
    "    \"margi_SRR5278101\",\n",
    "    \"margi_SRR5278102\",\n",
    "    \"margi_SRR5278104\",\n",
    "    \"margi_SRR5278105\",\n",
    "    \"redc_SRR10010323\",\n",
    "    \"redc_SRR10010324\",\n",
    "    \"redc_SRR10010325\",\n",
    "    \"redc_SRR10010326\",\n",
    "    \"redc_SRR10010328\",\n",
    "    \"redc_SRR10010330\",\n",
    "]\n",
    "\n",
    "TOTAL = 55\n",
    "heights = [.02, .02, .0, .02,\n",
    "            .02, .02, .02, .0, .02, .09, .09,\n",
    "            .45, .53, .44, .0, .0, .58, .51, .58, .58, .0, .02,\n",
    "            .96, .96, .95, 1.0, .98, 1.0]\n",
    "negheights = [1.0-x for x in heights]\n",
    "rna_strand_barplot(labels, heights, negheights, TOTAL, \"human\")"
   ]
  },
  {
   "cell_type": "code",
   "execution_count": 4,
   "metadata": {},
   "outputs": [
    {
     "data": {
      "text/plain": [
       "(60656, 5)"
      ]
     },
     "execution_count": 4,
     "metadata": {},
     "output_type": "execute_result"
    }
   ],
   "source": [
    "# calc strand\n",
    "names = [\"SRR12462453\", \"SRR12462454\", \"SRR9900120\", \"SRR9900121\", \"SRR9900122\"]\n",
    "G = DIR + \"data/genes/human/gencode.v35.basic.annotation.gtf\"\n",
    "genes = pd.read_csv(G, skiprows=5, sep='\\t', header=None)\n",
    "genes = genes[genes[2] == 'gene']\n",
    "genes.drop([1,2,5,7], inplace=True, axis=1)\n",
    "genes.shape"
   ]
  },
  {
   "cell_type": "code",
   "execution_count": 5,
   "metadata": {},
   "outputs": [
    {
     "name": "stdout",
     "output_type": "stream",
     "text": [
      "55\n"
     ]
    },
    {
     "data": {
      "text/html": [
       "<div>\n",
       "<style scoped>\n",
       "    .dataframe tbody tr th:only-of-type {\n",
       "        vertical-align: middle;\n",
       "    }\n",
       "\n",
       "    .dataframe tbody tr th {\n",
       "        vertical-align: top;\n",
       "    }\n",
       "\n",
       "    .dataframe thead th {\n",
       "        text-align: right;\n",
       "    }\n",
       "</style>\n",
       "<table border=\"1\" class=\"dataframe\">\n",
       "  <thead>\n",
       "    <tr style=\"text-align: right;\">\n",
       "      <th></th>\n",
       "      <th>0</th>\n",
       "      <th>3</th>\n",
       "      <th>4</th>\n",
       "      <th>6</th>\n",
       "    </tr>\n",
       "    <tr>\n",
       "      <th>8</th>\n",
       "      <th></th>\n",
       "      <th></th>\n",
       "      <th></th>\n",
       "      <th></th>\n",
       "    </tr>\n",
       "  </thead>\n",
       "  <tbody>\n",
       "    <tr>\n",
       "      <th>RPL22</th>\n",
       "      <td>chr1</td>\n",
       "      <td>6185020</td>\n",
       "      <td>6209389</td>\n",
       "      <td>-</td>\n",
       "    </tr>\n",
       "    <tr>\n",
       "      <th>RPL11</th>\n",
       "      <td>chr1</td>\n",
       "      <td>23691742</td>\n",
       "      <td>23696835</td>\n",
       "      <td>+</td>\n",
       "    </tr>\n",
       "    <tr>\n",
       "      <th>RPL5</th>\n",
       "      <td>chr1</td>\n",
       "      <td>92832013</td>\n",
       "      <td>92841924</td>\n",
       "      <td>+</td>\n",
       "    </tr>\n",
       "    <tr>\n",
       "      <th>RPL31</th>\n",
       "      <td>chr2</td>\n",
       "      <td>101002229</td>\n",
       "      <td>101024032</td>\n",
       "      <td>+</td>\n",
       "    </tr>\n",
       "    <tr>\n",
       "      <th>RPL37A</th>\n",
       "      <td>chr2</td>\n",
       "      <td>216498825</td>\n",
       "      <td>216579180</td>\n",
       "      <td>+</td>\n",
       "    </tr>\n",
       "  </tbody>\n",
       "</table>\n",
       "</div>"
      ],
      "text/plain": [
       "           0          3          4  6\n",
       "8                                    \n",
       "RPL22   chr1    6185020    6209389  -\n",
       "RPL11   chr1   23691742   23696835  +\n",
       "RPL5    chr1   92832013   92841924  +\n",
       "RPL31   chr2  101002229  101024032  +\n",
       "RPL37A  chr2  216498825  216579180  +"
      ]
     },
     "execution_count": 5,
     "metadata": {},
     "output_type": "execute_result"
    }
   ],
   "source": [
    "ribgenes = genes[genes[8].str.contains('\"protein_coding\"; gene_name \"RPL')]\n",
    "print(ribgenes.shape[0])\n",
    "ribgenes[8] = ribgenes[8].apply(lambda x: x.split('gene_name')[1].split(';')[0].split('\"')[1])\n",
    "ribgenes.set_index(8, inplace=True)\n",
    "ribgenes.head()"
   ]
  },
  {
   "cell_type": "code",
   "execution_count": 9,
   "metadata": {},
   "outputs": [
    {
     "name": "stdout",
     "output_type": "stream",
     "text": [
      "23\n"
     ]
    },
    {
     "data": {
      "text/html": [
       "<div>\n",
       "<style scoped>\n",
       "    .dataframe tbody tr th:only-of-type {\n",
       "        vertical-align: middle;\n",
       "    }\n",
       "\n",
       "    .dataframe tbody tr th {\n",
       "        vertical-align: top;\n",
       "    }\n",
       "\n",
       "    .dataframe thead th {\n",
       "        text-align: right;\n",
       "    }\n",
       "</style>\n",
       "<table border=\"1\" class=\"dataframe\">\n",
       "  <thead>\n",
       "    <tr style=\"text-align: right;\">\n",
       "      <th></th>\n",
       "      <th>RPL22</th>\n",
       "      <th>RPL11</th>\n",
       "      <th>RPL5</th>\n",
       "      <th>RPL31</th>\n",
       "      <th>RPL37A</th>\n",
       "      <th>RPL32</th>\n",
       "      <th>RPL15</th>\n",
       "      <th>RPL14</th>\n",
       "      <th>RPL29</th>\n",
       "      <th>RPL24</th>\n",
       "      <th>...</th>\n",
       "      <th>RPL36</th>\n",
       "      <th>RPL18A</th>\n",
       "      <th>RPL18</th>\n",
       "      <th>RPL13A</th>\n",
       "      <th>RPL28</th>\n",
       "      <th>RPL3</th>\n",
       "      <th>RPL36A</th>\n",
       "      <th>RPL36A-HNRNPH2</th>\n",
       "      <th>RPL39</th>\n",
       "      <th>RPL10</th>\n",
       "    </tr>\n",
       "  </thead>\n",
       "  <tbody>\n",
       "    <tr>\n",
       "      <th>imargi_SRR8206680</th>\n",
       "      <td>[40, 281]</td>\n",
       "      <td>[7, 340]</td>\n",
       "      <td>[26, 1093]</td>\n",
       "      <td>[28, 466]</td>\n",
       "      <td>[124, 603]</td>\n",
       "      <td>[7, 771]</td>\n",
       "      <td>[21, 627]</td>\n",
       "      <td>[12, 299]</td>\n",
       "      <td>[7, 187]</td>\n",
       "      <td>[19, 237]</td>\n",
       "      <td>...</td>\n",
       "      <td>[39, 106]</td>\n",
       "      <td>[6, 825]</td>\n",
       "      <td>[5, 131]</td>\n",
       "      <td>[7, 1085]</td>\n",
       "      <td>[37, 280]</td>\n",
       "      <td>[21, 1189]</td>\n",
       "      <td>[1, 159]</td>\n",
       "      <td>[40, 197]</td>\n",
       "      <td>[5, 319]</td>\n",
       "      <td>[58, 695]</td>\n",
       "    </tr>\n",
       "    <tr>\n",
       "      <th>imargi_SRR8206679</th>\n",
       "      <td>[120, 612]</td>\n",
       "      <td>[22, 1091]</td>\n",
       "      <td>[59, 3077]</td>\n",
       "      <td>[153, 945]</td>\n",
       "      <td>[263, 10600]</td>\n",
       "      <td>[48, 2391]</td>\n",
       "      <td>[49, 956]</td>\n",
       "      <td>[31, 546]</td>\n",
       "      <td>[15, 876]</td>\n",
       "      <td>[38, 592]</td>\n",
       "      <td>...</td>\n",
       "      <td>[225, 1121]</td>\n",
       "      <td>[24, 1827]</td>\n",
       "      <td>[39, 1485]</td>\n",
       "      <td>[39, 3366]</td>\n",
       "      <td>[233, 1061]</td>\n",
       "      <td>[140, 3267]</td>\n",
       "      <td>[14, 894]</td>\n",
       "      <td>[186, 985]</td>\n",
       "      <td>[14, 921]</td>\n",
       "      <td>[96, 3130]</td>\n",
       "    </tr>\n",
       "    <tr>\n",
       "      <th>margi_SRR5278096</th>\n",
       "      <td>[137, 141]</td>\n",
       "      <td>[33, 32]</td>\n",
       "      <td>[31, 31]</td>\n",
       "      <td>[78, 57]</td>\n",
       "      <td>[366, 373]</td>\n",
       "      <td>[54, 39]</td>\n",
       "      <td>[24, 33]</td>\n",
       "      <td>[33, 22]</td>\n",
       "      <td>[12, 74]</td>\n",
       "      <td>[18, 21]</td>\n",
       "      <td>...</td>\n",
       "      <td>[176, 191]</td>\n",
       "      <td>[62, 81]</td>\n",
       "      <td>[66, 54]</td>\n",
       "      <td>[201, 112]</td>\n",
       "      <td>[198, 185]</td>\n",
       "      <td>[118, 122]</td>\n",
       "      <td>[14, 19]</td>\n",
       "      <td>[68, 58]</td>\n",
       "      <td>[11, 14]</td>\n",
       "      <td>[102, 70]</td>\n",
       "    </tr>\n",
       "    <tr>\n",
       "      <th>margi_SRR5278101</th>\n",
       "      <td>[19, 26]</td>\n",
       "      <td>[7, 4]</td>\n",
       "      <td>[13, 8]</td>\n",
       "      <td>[16, 17]</td>\n",
       "      <td>[76, 75]</td>\n",
       "      <td>[14, 7]</td>\n",
       "      <td>[9, 3]</td>\n",
       "      <td>[11, 3]</td>\n",
       "      <td>[4, 9]</td>\n",
       "      <td>[2, 7]</td>\n",
       "      <td>...</td>\n",
       "      <td>[20, 36]</td>\n",
       "      <td>[7, 13]</td>\n",
       "      <td>[12, 2]</td>\n",
       "      <td>[33, 11]</td>\n",
       "      <td>[21, 36]</td>\n",
       "      <td>[18, 21]</td>\n",
       "      <td>[7, 3]</td>\n",
       "      <td>[22, 18]</td>\n",
       "      <td>[3, 9]</td>\n",
       "      <td>[30, 26]</td>\n",
       "    </tr>\n",
       "    <tr>\n",
       "      <th>margi_SRR5278099</th>\n",
       "      <td>[23, 40]</td>\n",
       "      <td>[10, 6]</td>\n",
       "      <td>[7, 14]</td>\n",
       "      <td>[25, 15]</td>\n",
       "      <td>[70, 73]</td>\n",
       "      <td>[5, 4]</td>\n",
       "      <td>[12, 9]</td>\n",
       "      <td>[15, 8]</td>\n",
       "      <td>[4, 12]</td>\n",
       "      <td>[4, 9]</td>\n",
       "      <td>...</td>\n",
       "      <td>[40, 47]</td>\n",
       "      <td>[4, 13]</td>\n",
       "      <td>[6, 9]</td>\n",
       "      <td>[39, 23]</td>\n",
       "      <td>[42, 49]</td>\n",
       "      <td>[21, 28]</td>\n",
       "      <td>[16, 0]</td>\n",
       "      <td>[46, 20]</td>\n",
       "      <td>[13, 7]</td>\n",
       "      <td>[37, 33]</td>\n",
       "    </tr>\n",
       "  </tbody>\n",
       "</table>\n",
       "<p>5 rows × 55 columns</p>\n",
       "</div>"
      ],
      "text/plain": [
       "                        RPL22       RPL11        RPL5       RPL31  \\\n",
       "imargi_SRR8206680   [40, 281]    [7, 340]  [26, 1093]   [28, 466]   \n",
       "imargi_SRR8206679  [120, 612]  [22, 1091]  [59, 3077]  [153, 945]   \n",
       "margi_SRR5278096   [137, 141]    [33, 32]    [31, 31]    [78, 57]   \n",
       "margi_SRR5278101     [19, 26]      [7, 4]     [13, 8]    [16, 17]   \n",
       "margi_SRR5278099     [23, 40]     [10, 6]     [7, 14]    [25, 15]   \n",
       "\n",
       "                         RPL37A       RPL32      RPL15      RPL14      RPL29  \\\n",
       "imargi_SRR8206680    [124, 603]    [7, 771]  [21, 627]  [12, 299]   [7, 187]   \n",
       "imargi_SRR8206679  [263, 10600]  [48, 2391]  [49, 956]  [31, 546]  [15, 876]   \n",
       "margi_SRR5278096     [366, 373]    [54, 39]   [24, 33]   [33, 22]   [12, 74]   \n",
       "margi_SRR5278101       [76, 75]     [14, 7]     [9, 3]    [11, 3]     [4, 9]   \n",
       "margi_SRR5278099       [70, 73]      [5, 4]    [12, 9]    [15, 8]    [4, 12]   \n",
       "\n",
       "                       RPL24  ...        RPL36      RPL18A       RPL18  \\\n",
       "imargi_SRR8206680  [19, 237]  ...    [39, 106]    [6, 825]    [5, 131]   \n",
       "imargi_SRR8206679  [38, 592]  ...  [225, 1121]  [24, 1827]  [39, 1485]   \n",
       "margi_SRR5278096    [18, 21]  ...   [176, 191]    [62, 81]    [66, 54]   \n",
       "margi_SRR5278101      [2, 7]  ...     [20, 36]     [7, 13]     [12, 2]   \n",
       "margi_SRR5278099      [4, 9]  ...     [40, 47]     [4, 13]      [6, 9]   \n",
       "\n",
       "                       RPL13A        RPL28         RPL3     RPL36A  \\\n",
       "imargi_SRR8206680   [7, 1085]    [37, 280]   [21, 1189]   [1, 159]   \n",
       "imargi_SRR8206679  [39, 3366]  [233, 1061]  [140, 3267]  [14, 894]   \n",
       "margi_SRR5278096   [201, 112]   [198, 185]   [118, 122]   [14, 19]   \n",
       "margi_SRR5278101     [33, 11]     [21, 36]     [18, 21]     [7, 3]   \n",
       "margi_SRR5278099     [39, 23]     [42, 49]     [21, 28]    [16, 0]   \n",
       "\n",
       "                  RPL36A-HNRNPH2      RPL39       RPL10  \n",
       "imargi_SRR8206680      [40, 197]   [5, 319]   [58, 695]  \n",
       "imargi_SRR8206679     [186, 985]  [14, 921]  [96, 3130]  \n",
       "margi_SRR5278096        [68, 58]   [11, 14]   [102, 70]  \n",
       "margi_SRR5278101        [22, 18]     [3, 9]    [30, 26]  \n",
       "margi_SRR5278099        [46, 20]    [13, 7]    [37, 33]  \n",
       "\n",
       "[5 rows x 55 columns]"
      ]
     },
     "execution_count": 9,
     "metadata": {},
     "output_type": "execute_result"
    }
   ],
   "source": [
    "res = pd.read_csv('~/data/check.tsv', sep='\\t', index_col=0)\n",
    "for x in res.index:\n",
    "    for y in res.columns:\n",
    "        res.at[x,y] = [int(x) for x in res.at[x,y].strip(\"[]\").split(\",\")]\n",
    "print(res.shape[0])\n",
    "res.head()"
   ]
  },
  {
   "cell_type": "code",
   "execution_count": null,
   "metadata": {},
   "outputs": [
    {
     "name": "stdout",
     "output_type": "stream",
     "text": [
      "SRR12462453 5628303\n"
     ]
    }
   ],
   "source": [
    "for name in names:\n",
    "    dat = pd.read_csv(f'~/data/imargi/bed/{name}.rna.bed', sep='\\t', header=None)\n",
    "    print(name, dat.shape[0])\n",
    "    dat[0] = dat[0].apply(lambda x: hg38_dict[x])\n",
    "    for item in ribgenes.index:\n",
    "        same = dat[(dat[0]==ribgenes.at[item,0]) & (dat[5]==ribgenes.at[item,6]) & (dat[1] < ribgenes.at[item,4]) & (dat[2] > ribgenes.at[item,3])].shape[0]\n",
    "        anti = dat[(dat[0]==ribgenes.at[item,0]) & (dat[5]!=ribgenes.at[item,6]) & (dat[1] < ribgenes.at[item,4]) & (dat[2] > ribgenes.at[item,3])].shape[0]\n",
    "        res.at['imargi_'+name,item] = [same, anti]"
   ]
  },
  {
   "cell_type": "code",
   "execution_count": null,
   "metadata": {},
   "outputs": [],
   "source": [
    "res.to_csv(\"~/data/check_new.tsv\", sep='\\t', index=False)"
   ]
  },
  {
   "cell_type": "code",
   "execution_count": 64,
   "metadata": {},
   "outputs": [],
   "source": [
    "labels = sorted(res.index.values)"
   ]
  },
  {
   "cell_type": "code",
   "execution_count": 65,
   "metadata": {},
   "outputs": [],
   "source": [
    "#heights =    np.array([1, 2, 31, 29, 27, 0, 0,33,30,34,33,0,1,1, 1, 0, 1, 53,55,53,54,55,54]) / 55\n",
    "#negheights = np.array([54,53,24, 26, 38, 3, 5,22,25,21,22,3,8,54,54,55,54,2, 0, 2, 1, 0, 1]) / 55\n",
    "\n",
    "heights = np.array([res.loc[x,:].T.apply(lambda x: x[0]>x[1]).sum() for x in labels]) / res.columns.shape[0]\n",
    "negheights = np.array([res.loc[x,:].T.apply(lambda x: x[0]<x[1]).sum() for x in labels]) / res.columns.shape[0]"
   ]
  },
  {
   "cell_type": "code",
   "execution_count": 68,
   "metadata": {},
   "outputs": [
    {
     "data": {
      "image/png": "[encoded data removed]",
      "text/plain": [
       "<Figure size 842.4x595.44 with 1 Axes>"
      ]
     },
     "metadata": {
      "needs_background": "light"
     },
     "output_type": "display_data"
    }
   ],
   "source": [
    "rna_strand_barplot(labels, heights, negheights, 55, 'человека')"
   ]
  },
  {
   "cell_type": "markdown",
   "metadata": {},
   "source": [
    "# MARGI"
   ]
  },
  {
   "cell_type": "code",
   "execution_count": null,
   "metadata": {},
   "outputs": [],
   "source": [
    "# gzip old margi\n",
    "os.chdir(\"/home/asigorskikh/data/margi/raw\")\n",
    "for name in [x for x in os.listdir() if x.endswith(\".fastq\")]:\n",
    "    os.system(f\"gzip {name} --best\")"
   ]
  },
  {
   "cell_type": "code",
   "execution_count": null,
   "metadata": {},
   "outputs": [],
   "source": []
  },
  {
   "cell_type": "code",
   "execution_count": 16,
   "metadata": {},
   "outputs": [],
   "source": [
    "curdir = DIR + 'data/margi/'\n",
    "os.chdir(curdir)\n",
    "#fastuniq and trim already done"
   ]
  },
  {
   "cell_type": "code",
   "execution_count": 20,
   "metadata": {},
   "outputs": [],
   "source": [
    "#data gunzip\n",
    "#os.chdir('trimmed')\n",
    "#for x in [x for x in os.listdir('.') if '.fastq.gz' in x]:\n",
    "    #os.system('gunzip {}'.format(x))\n",
    "#os.chdir('..')"
   ]
  },
  {
   "cell_type": "code",
   "execution_count": 17,
   "metadata": {},
   "outputs": [],
   "source": [
    "names = list(set([x.split('.')[0] for x in os.listdir('trimmed/') if '.fastq' in x]))"
   ]
  },
  {
   "cell_type": "code",
   "execution_count": 12,
   "metadata": {
    "collapsed": true,
    "jupyter": {
     "outputs_hidden": true
    }
   },
   "outputs": [
    {
     "data": {
      "text/plain": [
       "0"
      ]
     },
     "execution_count": 12,
     "metadata": {},
     "output_type": "execute_result"
    }
   ],
   "source": [
    "os.system('rm trimmed/SRR5278103.*')"
   ]
  },
  {
   "cell_type": "code",
   "execution_count": null,
   "metadata": {
    "collapsed": true,
    "jupyter": {
     "outputs_hidden": true
    }
   },
   "outputs": [
    {
     "name": "stdout",
     "output_type": "stream",
     "text": [
      "b'13556994 reads; of these:\\n  13556994 (100.00%) were unpaired; of these:\\n    3636430 (26.82%) aligned 0 times\\n    9263230 (68.33%) aligned exactly 1 time\\n    657334 (4.85%) aligned >1 times\\n73.18% overall alignment rate\\n'\n",
      "b'13556994 reads; of these:\\n  13556994 (100.00%) were unpaired; of these:\\n    1857405 (13.70%) aligned 0 times\\n    11057377 (81.56%) aligned exactly 1 time\\n    642212 (4.74%) aligned >1 times\\n86.30% overall alignment rate\\n'\n"
     ]
    }
   ],
   "source": [
    "#align\n",
    "for name in names:\n",
    "    align(infile=curdir+'trimmed/{}.reverse.trimmomatic_output.fastq'.format(name), outfile=curdir+'sam/{}.dna.bam'.format(name),\\\n",
    "         mode='dna', genome=DIR+'data/genomes/hg38/GRCh38.p13', nthreads=8)\n",
    "    align(infile=curdir+'trimmed/{}.forward.trimmomatic_output.fastq'.format(name), outfile=curdir+'sam/{}.rna.bam'.format(name),\\\n",
    "         mode='rna', genome=DIR+'data/genomes/hg38/GRCh38.p13', nthreads=8,\\\n",
    "         known_splice=DIR+'data/genes/human/gencode.v35.basic.annotation.ss', novel_splice=curdir+'bam/{}.rna.novel_splice'.format(name))"
   ]
  },
  {
   "cell_type": "code",
   "execution_count": null,
   "metadata": {},
   "outputs": [],
   "source": [
    "for x,y in itertools.product(names, ['rna', 'dna']):\n",
    "    filter_aligned(curdir+'sam/{0}.{1}.bam'.format(x,y), curdir+'bam/{0}.{1}.bam'.format(x,y))\n",
    "    aligned_to_bed(infile=curdir+'bam/{0}.{1}.bam'.format(x,y), outfile='/home/asigorskikh/data/margi/bed/{0}.{1}.bed'.format(x,y), mode='mapped')"
   ]
  },
  {
   "cell_type": "markdown",
   "metadata": {},
   "source": [
    "# RADICL"
   ]
  },
  {
   "cell_type": "code",
   "execution_count": null,
   "metadata": {},
   "outputs": [],
   "source": [
    "# archive already existing\n",
    "#os.chdir('/home/asigorskikh/data/radicl/fastuniq/')\n",
    "#for x in [x for x in os.listdir('.') if '.fastq' in x]:\n",
    "    #os.system('gzip {}'.format(x))"
   ]
  },
  {
   "cell_type": "code",
   "execution_count": 2,
   "metadata": {},
   "outputs": [],
   "source": [
    "curdir = DIR + 'data/radicl/'\n",
    "os.chdir(curdir)\n",
    "rnas = ['SRR'+str(x) for x in range(9201799, 9201831) if x % 2 == 1]\n",
    "dnas = ['SRR'+str(x) for x in range(9201799, 9201831) if x % 2 == 0]"
   ]
  },
  {
   "cell_type": "code",
   "execution_count": null,
   "metadata": {
    "collapsed": true,
    "jupyter": {
     "outputs_hidden": true
    }
   },
   "outputs": [
    {
     "name": "stdout",
     "output_type": "stream",
     "text": [
      "b'TrimmomaticPE: Started with arguments:\\n -phred33 /mnt/scratch/rnachrom/data/radicl/fastuniq/SRR9201799.fastq /mnt/scratch/rnachrom/data/radicl/fastuniq/SRR9201800.fastq /mnt/scratch/rnachrom/data/radicl/trimmed/SRR9201799.fastq /mnt/scratch/rnachrom/data/radicl/trimmed/SRR9201799.fastq.unpaired /mnt/scratch/rnachrom/data/radicl/trimmed/SRR9201800.fastq /mnt/scratch/rnachrom/data/radicl/trimmed/SRR9201800.fastq.unpaired SLIDINGWINDOW:5:26 MINLEN:14\\nMultiple cores found: Using 4 threads\\nInput Read Pairs: 89981407 Both Surviving: 86756105 (96.42%) Forward Only Surviving: 1185515 (1.32%) Reverse Only Surviving: 1397605 (1.55%) Dropped: 642182 (0.71%)\\nTrimmomaticPE: Completed successfully\\n'\n"
     ]
    }
   ],
   "source": [
    "#trim\n",
    "for rna, dna in zip(rnas,dnas):\n",
    "    \n",
    "    file1_fastuniq = curdir + 'fastuniq/{}.fastq'.format(rna)\n",
    "    file2_fastuniq = curdir + 'fastuniq/{}.fastq'.format(dna)\n",
    "    \n",
    "    file1_trim = curdir + 'trimmed/{}.fastq'.format(rna)\n",
    "    file2_trim = curdir + 'trimmed/{}.fastq'.format(dna)\n",
    "\n",
    "    run_trimmomatic(file1_fastuniq, file2_fastuniq, file1_trim, file2_trim,\n",
    "                  window=5, \n",
    "                  qual_th=26, \n",
    "                  minlen=14 \n",
    "                  )"
   ]
  },
  {
   "cell_type": "code",
   "execution_count": null,
   "metadata": {
    "collapsed": true,
    "jupyter": {
     "outputs_hidden": true
    }
   },
   "outputs": [
    {
     "name": "stdout",
     "output_type": "stream",
     "text": [
      "b'86756105 reads; of these:\\n  86756105 (100.00%) were unpaired; of these:\\n    15451575 (17.81%) aligned 0 times\\n    60288890 (69.49%) aligned exactly 1 time\\n    11015640 (12.70%) aligned >1 times\\n82.19% overall alignment rate\\n'\n",
      "b'86756105 reads; of these:\\n  86756105 (100.00%) were unpaired; of these:\\n    30265574 (34.89%) aligned 0 times\\n    32166096 (37.08%) aligned exactly 1 time\\n    24324435 (28.04%) aligned >1 times\\n65.11% overall alignment rate\\n'\n"
     ]
    }
   ],
   "source": [
    "for rna, dna in zip(rnas, dnas):\n",
    "    align(infile=curdir+'trimmed/'+dna+'.fastq', outfile=curdir+'sam/'+dna+'.dna.bam',\\\n",
    "          mode='dna', genome=DIR+'data/genomes/mm10/GRCm38.p6', nthreads=8)\n",
    "    align(infile=curdir+'trimmed/'+rna+'.fastq', outfile=curdir+'sam/'+rna+'.rna.bam',\\\n",
    "          mode='rna', genome=DIR+'data/genomes/mm10/GRCm38.p6', nthreads=8,\\\n",
    "          known_splice='data/genes/mouse/gencode.vM25.basic.annotation.ss', novel_splice=curdir+'bam/'+rna+'.novel_splice')"
   ]
  },
  {
   "cell_type": "code",
   "execution_count": null,
   "metadata": {},
   "outputs": [],
   "source": [
    "for rna, dna in zip(rnas, dnas):\n",
    "    filter_aligned(infile=curdir+'sam/'+rna+'.rna.bam', outfile=curdir+'bam/'+rna+'.rna.bam')\n",
    "    filter_aligned(infile=curdir+'sam/'+dna+'.dna.bam', outfile=curdir+'bam/'+dna+'.dna.bam')\n",
    "    aligned_to_bed(infile=curdir+'bam/'+rna+'.rna.bam', outfile='/home/asigorskikh/data/radicl/bed/'+rna+'.rna.bed', mode='mapped')\n",
    "    aligned_to_bed(infile=curdir+'bam/'+dna+'.dna.bam', outfile='/home/asigorskikh/data/radicl/bed/'+dna+'.dna.bed', mode='mapped')"
   ]
  },
  {
   "cell_type": "code",
   "execution_count": 20,
   "metadata": {},
   "outputs": [],
   "source": [
    "#stats\n",
    "for name in rnas:\n",
    "    os.system(\"awk '{s++}END{print s/4}' trimmed/\" + name + \".fastq >> trimstats.txt\")"
   ]
  },
  {
   "cell_type": "markdown",
   "metadata": {},
   "source": [
    "# CHAR"
   ]
  },
  {
   "cell_type": "code",
   "execution_count": null,
   "metadata": {},
   "outputs": [],
   "source": [
    "#changes SE trimming script and added PE trimming before mapping"
   ]
  },
  {
   "cell_type": "code",
   "execution_count": 17,
   "metadata": {},
   "outputs": [],
   "source": [
    "curdir = DIR + 'data/char/'\n",
    "os.chdir(curdir)\n",
    "names = ['SRR5382172', 'SRR5382173', 'SRR5382174', 'SRR5382175', 'SRR5382176']"
   ]
  },
  {
   "cell_type": "code",
   "execution_count": 24,
   "metadata": {},
   "outputs": [],
   "source": [
    "for name in names:\n",
    "    os.system(\"cp /home/asigorskikh/data/char/sra/{0}.fastq.gz /mnt/scratch/rnachrom/data/char/{0}/\".format(name))"
   ]
  },
  {
   "cell_type": "code",
   "execution_count": 29,
   "metadata": {},
   "outputs": [],
   "source": [
    "for name in names:\n",
    "    os.system(\"rm {0}/trim/*.gz\".format(name))\n",
    "    os.system(\"rm {0}/bridge/*.gz\".format(name))"
   ]
  },
  {
   "cell_type": "code",
   "execution_count": null,
   "metadata": {},
   "outputs": [],
   "source": [
    "#bridge\n",
    "for name in names:\n",
    "#for name in ['SRR5382175']:\n",
    "    run_command('./char_prep.sh /mnt/scratch/rnachrom/data/char/{0}/{0}.fastq.gz /mnt/scratch/rnachrom/data/char 8'.format(name))"
   ]
  },
  {
   "cell_type": "code",
   "execution_count": 20,
   "metadata": {
    "collapsed": true,
    "jupyter": {
     "outputs_hidden": true
    }
   },
   "outputs": [
    {
     "name": "stdout",
     "output_type": "stream",
     "text": [
      "b'TrimmomaticPE: Started with arguments:\\n -phred33 /mnt/scratch/rnachrom/data/char/fastuniq/SRR5382172.dna.bridgePE.fastq /mnt/scratch/rnachrom/data/char/fastuniq/SRR5382172.rna.bridgePE.fastq /mnt/scratch/rnachrom/data/char/trimmed/SRR5382172.dna.fastq /mnt/scratch/rnachrom/data/char/trimmed/SRR5382172.dna.fastq.unpaired /mnt/scratch/rnachrom/data/char/trimmed/SRR5382172.rna.fastq /mnt/scratch/rnachrom/data/char/trimmed/SRR5382172.rna.fastq.unpaired SLIDINGWINDOW:5:26 MINLEN:14\\nMultiple cores found: Using 4 threads\\nInput Read Pairs: 7098165 Both Surviving: 5291526 (74.55%) Forward Only Surviving: 754453 (10.63%) Reverse Only Surviving: 637722 (8.98%) Dropped: 414464 (5.84%)\\nTrimmomaticPE: Completed successfully\\n'\n",
      "b'TrimmomaticPE: Started with arguments:\\n -phred33 /mnt/scratch/rnachrom/data/char/fastuniq/SRR5382173.dna.bridgePE.fastq /mnt/scratch/rnachrom/data/char/fastuniq/SRR5382173.rna.bridgePE.fastq /mnt/scratch/rnachrom/data/char/trimmed/SRR5382173.dna.fastq /mnt/scratch/rnachrom/data/char/trimmed/SRR5382173.dna.fastq.unpaired /mnt/scratch/rnachrom/data/char/trimmed/SRR5382173.rna.fastq /mnt/scratch/rnachrom/data/char/trimmed/SRR5382173.rna.fastq.unpaired SLIDINGWINDOW:5:26 MINLEN:14\\nMultiple cores found: Using 4 threads\\nInput Read Pairs: 16533442 Both Surviving: 11325211 (68.50%) Forward Only Surviving: 2017952 (12.21%) Reverse Only Surviving: 2200914 (13.31%) Dropped: 989365 (5.98%)\\nTrimmomaticPE: Completed successfully\\n'\n",
      "b'TrimmomaticPE: Started with arguments:\\n -phred33 /mnt/scratch/rnachrom/data/char/fastuniq/SRR5382174.dna.bridgePE.fastq /mnt/scratch/rnachrom/data/char/fastuniq/SRR5382174.rna.bridgePE.fastq /mnt/scratch/rnachrom/data/char/trimmed/SRR5382174.dna.fastq /mnt/scratch/rnachrom/data/char/trimmed/SRR5382174.dna.fastq.unpaired /mnt/scratch/rnachrom/data/char/trimmed/SRR5382174.rna.fastq /mnt/scratch/rnachrom/data/char/trimmed/SRR5382174.rna.fastq.unpaired SLIDINGWINDOW:5:26 MINLEN:14\\nMultiple cores found: Using 4 threads\\nInput Read Pairs: 7076234 Both Surviving: 2074008 (29.31%) Forward Only Surviving: 1524057 (21.54%) Reverse Only Surviving: 1786645 (25.25%) Dropped: 1691524 (23.90%)\\nTrimmomaticPE: Completed successfully\\n'\n",
      "b'TrimmomaticPE: Started with arguments:\\n -phred33 /mnt/scratch/rnachrom/data/char/fastuniq/SRR5382175.dna.bridgePE.fastq /mnt/scratch/rnachrom/data/char/fastuniq/SRR5382175.rna.bridgePE.fastq /mnt/scratch/rnachrom/data/char/trimmed/SRR5382175.dna.fastq /mnt/scratch/rnachrom/data/char/trimmed/SRR5382175.dna.fastq.unpaired /mnt/scratch/rnachrom/data/char/trimmed/SRR5382175.rna.fastq /mnt/scratch/rnachrom/data/char/trimmed/SRR5382175.rna.fastq.unpaired SLIDINGWINDOW:5:26 MINLEN:14\\nMultiple cores found: Using 4 threads\\nInput Read Pairs: 2912577 Both Surviving: 1429009 (49.06%) Forward Only Surviving: 480861 (16.51%) Reverse Only Surviving: 565279 (19.41%) Dropped: 437428 (15.02%)\\nTrimmomaticPE: Completed successfully\\n'\n",
      "b'TrimmomaticPE: Started with arguments:\\n -phred33 /mnt/scratch/rnachrom/data/char/fastuniq/SRR5382176.dna.bridgePE.fastq /mnt/scratch/rnachrom/data/char/fastuniq/SRR5382176.rna.bridgePE.fastq /mnt/scratch/rnachrom/data/char/trimmed/SRR5382176.dna.fastq /mnt/scratch/rnachrom/data/char/trimmed/SRR5382176.dna.fastq.unpaired /mnt/scratch/rnachrom/data/char/trimmed/SRR5382176.rna.fastq /mnt/scratch/rnachrom/data/char/trimmed/SRR5382176.rna.fastq.unpaired SLIDINGWINDOW:5:26 MINLEN:14\\nMultiple cores found: Using 4 threads\\nInput Read Pairs: 188089647 Both Surviving: 139318938 (74.07%) Forward Only Surviving: 19662849 (10.45%) Reverse Only Surviving: 16818075 (8.94%) Dropped: 12289785 (6.53%)\\nTrimmomaticPE: Completed successfully\\n'\n"
     ]
    }
   ],
   "source": [
    "for name in names:\n",
    "#for name in ['SRR5382175']:\n",
    "    file1_fastuniq = curdir + 'fastuniq/{}.dna.bridgePE.fastq'.format(name)\n",
    "    file2_fastuniq = curdir + 'fastuniq/{}.rna.bridgePE.fastq'.format(name)\n",
    "    \n",
    "    file1_trim = curdir + 'trimmed/{}.dna.fastq'.format(name)\n",
    "    file2_trim = curdir + 'trimmed/{}.rna.fastq'.format(name)\n",
    "\n",
    "    run_trimmomatic(file1_fastuniq, file2_fastuniq, file1_trim, file2_trim,\n",
    "                  window=5, \n",
    "                  qual_th=26, \n",
    "                  minlen=14 \n",
    "                  )"
   ]
  },
  {
   "cell_type": "code",
   "execution_count": null,
   "metadata": {
    "collapsed": true,
    "jupyter": {
     "outputs_hidden": true
    }
   },
   "outputs": [
    {
     "name": "stdout",
     "output_type": "stream",
     "text": [
      "b'5291526 reads; of these:\\n  5291526 (100.00%) were unpaired; of these:\\n    1187595 (22.44%) aligned 0 times\\n    3212892 (60.72%) aligned exactly 1 time\\n    891039 (16.84%) aligned >1 times\\n77.56% overall alignment rate\\n'\n",
      "b'5291526 reads; of these:\\n  5291526 (100.00%) were unpaired; of these:\\n    1499570 (28.34%) aligned 0 times\\n    1097774 (20.75%) aligned exactly 1 time\\n    2694182 (50.92%) aligned >1 times\\n71.66% overall alignment rate\\n'\n",
      "b'11325211 reads; of these:\\n  11325211 (100.00%) were unpaired; of these:\\n    2737045 (24.17%) aligned 0 times\\n    6810766 (60.14%) aligned exactly 1 time\\n    1777400 (15.69%) aligned >1 times\\n75.83% overall alignment rate\\n'\n",
      "b'11325211 reads; of these:\\n  11325211 (100.00%) were unpaired; of these:\\n    2204481 (19.47%) aligned 0 times\\n    1889774 (16.69%) aligned exactly 1 time\\n    7230956 (63.85%) aligned >1 times\\n80.53% overall alignment rate\\n'\n",
      "b'2074008 reads; of these:\\n  2074008 (100.00%) were unpaired; of these:\\n    665174 (32.07%) aligned 0 times\\n    1036444 (49.97%) aligned exactly 1 time\\n    372390 (17.96%) aligned >1 times\\n67.93% overall alignment rate\\n'\n",
      "b'2074008 reads; of these:\\n  2074008 (100.00%) were unpaired; of these:\\n    536702 (25.88%) aligned 0 times\\n    395563 (19.07%) aligned exactly 1 time\\n    1141743 (55.05%) aligned >1 times\\n74.12% overall alignment rate\\n'\n",
      "b'1429009 reads; of these:\\n  1429009 (100.00%) were unpaired; of these:\\n    372351 (26.06%) aligned 0 times\\n    789542 (55.25%) aligned exactly 1 time\\n    267116 (18.69%) aligned >1 times\\n73.94% overall alignment rate\\n'\n",
      "b'1429009 reads; of these:\\n  1429009 (100.00%) were unpaired; of these:\\n    300567 (21.03%) aligned 0 times\\n    241023 (16.87%) aligned exactly 1 time\\n    887419 (62.10%) aligned >1 times\\n78.97% overall alignment rate\\n'\n",
      "b'139318938 reads; of these:\\n  139318938 (100.00%) were unpaired; of these:\\n    33820109 (24.28%) aligned 0 times\\n    83894437 (60.22%) aligned exactly 1 time\\n    21604392 (15.51%) aligned >1 times\\n75.72% overall alignment rate\\n'\n"
     ]
    }
   ],
   "source": [
    "for name in names:\n",
    "    align(infile=curdir+'trimmed/{}.dna.fastq'.format(name), outfile=curdir+'sam/{}.dna.bam'.format(name),\\\n",
    "         mode='dna', genome=DIR+'data/genomes/dm6/dm6', nthreads=8)\n",
    "    align(infile=curdir+'trimmed/{}.rna.fastq'.format(name), outfile=curdir+'sam/{}.rna.bam'.format(name),\\\n",
    "         mode='rna', genome=DIR+'data/genomes/dm6/dm6', nthreads=8,\\\n",
    "         known_splice=DIR+'data/genes/drosophila/splicesites.txt', novel_splice=curdir+'sam/{}.rna.novel_splice'.format(name))"
   ]
  },
  {
   "cell_type": "code",
   "execution_count": null,
   "metadata": {},
   "outputs": [],
   "source": [
    "for x,y in itertools.product(names, ['rna', 'dna']):\n",
    "    filter_aligned(curdir+'sam/{0}.{1}.bam'.format(x,y), curdir+'bam/{0}.{1}.bam'.format(x,y))\n",
    "    aligned_to_bed(infile=curdir+'bam/{0}.{1}.bam'.format(x,y), outfile='/home/asigorskikh/data/char/bed/{0}.{1}.bed'.format(x,y), mode='mapped')"
   ]
  }
 ],
 "metadata": {
  "kernelspec": {
   "display_name": "Python 3.8.13 ('sigenv')",
   "language": "python",
   "name": "python3"
  },
  "language_info": {
   "codemirror_mode": {
    "name": "ipython",
    "version": 3
   },
   "file_extension": ".py",
   "mimetype": "text/x-python",
   "name": "python",
   "nbconvert_exporter": "python",
   "pygments_lexer": "ipython3",
   "version": "3.8.13"
  },
  "vscode": {
   "interpreter": {
    "hash": "e40fe74a0261a135e18228996c490a0ceb4841ddd1530e168b049d53326d3b02"
   }
  }
 },
 "nbformat": 4,
 "nbformat_minor": 4
}
